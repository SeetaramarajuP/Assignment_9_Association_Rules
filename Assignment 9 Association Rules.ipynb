{
  "cells": [
    {
      "metadata": {
        "ExecuteTime": {
          "end_time": "2023-06-04T13:23:33.095648Z",
          "start_time": "2023-06-04T13:22:44.740170Z"
        },
        "trusted": false
      },
      "id": "9305c42a",
      "cell_type": "code",
      "source": "! pip install mlxtend",
      "execution_count": 1,
      "outputs": [
        {
          "name": "stdout",
          "output_type": "stream",
          "text": "Requirement already satisfied: mlxtend in c:\\users\\dell\\anaconda3\\lib\\site-packages (0.21.0)\nRequirement already satisfied: scipy>=1.2.1 in c:\\users\\dell\\anaconda3\\lib\\site-packages (from mlxtend) (1.7.3)\nRequirement already satisfied: joblib>=0.13.2 in c:\\users\\dell\\anaconda3\\lib\\site-packages (from mlxtend) (1.1.0)\nRequirement already satisfied: scikit-learn>=1.0.2 in c:\\users\\dell\\anaconda3\\lib\\site-packages (from mlxtend) (1.0.2)\nRequirement already satisfied: pandas>=0.24.2 in c:\\users\\dell\\anaconda3\\lib\\site-packages (from mlxtend) (1.4.2)\nRequirement already satisfied: matplotlib>=3.0.0 in c:\\users\\dell\\anaconda3\\lib\\site-packages (from mlxtend) (3.5.1)\nRequirement already satisfied: numpy>=1.16.2 in c:\\users\\dell\\anaconda3\\lib\\site-packages (from mlxtend) (1.21.5)\nRequirement already satisfied: setuptools in c:\\users\\dell\\anaconda3\\lib\\site-packages (from mlxtend) (61.2.0)\nRequirement already satisfied: cycler>=0.10 in c:\\users\\dell\\anaconda3\\lib\\site-packages (from matplotlib>=3.0.0->mlxtend) (0.11.0)\nRequirement already satisfied: kiwisolver>=1.0.1 in c:\\users\\dell\\anaconda3\\lib\\site-packages (from matplotlib>=3.0.0->mlxtend) (1.3.2)\nRequirement already satisfied: pyparsing>=2.2.1 in c:\\users\\dell\\anaconda3\\lib\\site-packages (from matplotlib>=3.0.0->mlxtend) (3.0.4)\nRequirement already satisfied: python-dateutil>=2.7 in c:\\users\\dell\\anaconda3\\lib\\site-packages (from matplotlib>=3.0.0->mlxtend) (2.8.2)\nRequirement already satisfied: pillow>=6.2.0 in c:\\users\\dell\\anaconda3\\lib\\site-packages (from matplotlib>=3.0.0->mlxtend) (9.0.1)\nRequirement already satisfied: packaging>=20.0 in c:\\users\\dell\\anaconda3\\lib\\site-packages (from matplotlib>=3.0.0->mlxtend) (21.3)\nRequirement already satisfied: fonttools>=4.22.0 in c:\\users\\dell\\anaconda3\\lib\\site-packages (from matplotlib>=3.0.0->mlxtend) (4.25.0)\nRequirement already satisfied: pytz>=2020.1 in c:\\users\\dell\\anaconda3\\lib\\site-packages (from pandas>=0.24.2->mlxtend) (2021.3)\nRequirement already satisfied: six>=1.5 in c:\\users\\dell\\anaconda3\\lib\\site-packages (from python-dateutil>=2.7->matplotlib>=3.0.0->mlxtend) (1.16.0)\nRequirement already satisfied: threadpoolctl>=2.0.0 in c:\\users\\dell\\anaconda3\\lib\\site-packages (from scikit-learn>=1.0.2->mlxtend) (2.2.0)\n"
        }
      ]
    },
    {
      "metadata": {
        "ExecuteTime": {
          "end_time": "2023-06-04T13:28:54.314213Z",
          "start_time": "2023-06-04T13:28:51.284284Z"
        },
        "trusted": false
      },
      "id": "3b8c0d57",
      "cell_type": "code",
      "source": "import pandas as pd \nimport matplotlib.pyplot as plt\nfrom mlxtend.frequent_patterns import apriori, association_rules\nfrom mlxtend.preprocessing import TransactionEncoder",
      "execution_count": 3,
      "outputs": []
    },
    {
      "metadata": {},
      "id": "81cf24a1",
      "cell_type": "markdown",
      "source": "# BOOKS"
    },
    {
      "metadata": {
        "ExecuteTime": {
          "end_time": "2023-06-04T13:29:21.344979Z",
          "start_time": "2023-06-04T13:29:21.307289Z"
        },
        "trusted": false
      },
      "id": "42594c23",
      "cell_type": "code",
      "source": "book=pd.read_csv('book.csv')",
      "execution_count": 4,
      "outputs": []
    },
    {
      "metadata": {
        "ExecuteTime": {
          "end_time": "2023-06-04T13:29:30.237298Z",
          "start_time": "2023-06-04T13:29:30.163458Z"
        },
        "trusted": false
      },
      "id": "e3415944",
      "cell_type": "code",
      "source": "book",
      "execution_count": 5,
      "outputs": [
        {
          "data": {
            "text/html": "<div>\n<style scoped>\n    .dataframe tbody tr th:only-of-type {\n        vertical-align: middle;\n    }\n\n    .dataframe tbody tr th {\n        vertical-align: top;\n    }\n\n    .dataframe thead th {\n        text-align: right;\n    }\n</style>\n<table border=\"1\" class=\"dataframe\">\n  <thead>\n    <tr style=\"text-align: right;\">\n      <th></th>\n      <th>ChildBks</th>\n      <th>YouthBks</th>\n      <th>CookBks</th>\n      <th>DoItYBks</th>\n      <th>RefBks</th>\n      <th>ArtBks</th>\n      <th>GeogBks</th>\n      <th>ItalCook</th>\n      <th>ItalAtlas</th>\n      <th>ItalArt</th>\n      <th>Florence</th>\n    </tr>\n  </thead>\n  <tbody>\n    <tr>\n      <th>0</th>\n      <td>0</td>\n      <td>1</td>\n      <td>0</td>\n      <td>1</td>\n      <td>0</td>\n      <td>0</td>\n      <td>1</td>\n      <td>0</td>\n      <td>0</td>\n      <td>0</td>\n      <td>0</td>\n    </tr>\n    <tr>\n      <th>1</th>\n      <td>1</td>\n      <td>0</td>\n      <td>0</td>\n      <td>0</td>\n      <td>0</td>\n      <td>0</td>\n      <td>0</td>\n      <td>0</td>\n      <td>0</td>\n      <td>0</td>\n      <td>0</td>\n    </tr>\n    <tr>\n      <th>2</th>\n      <td>0</td>\n      <td>0</td>\n      <td>0</td>\n      <td>0</td>\n      <td>0</td>\n      <td>0</td>\n      <td>0</td>\n      <td>0</td>\n      <td>0</td>\n      <td>0</td>\n      <td>0</td>\n    </tr>\n    <tr>\n      <th>3</th>\n      <td>1</td>\n      <td>1</td>\n      <td>1</td>\n      <td>0</td>\n      <td>1</td>\n      <td>0</td>\n      <td>1</td>\n      <td>0</td>\n      <td>0</td>\n      <td>0</td>\n      <td>0</td>\n    </tr>\n    <tr>\n      <th>4</th>\n      <td>0</td>\n      <td>0</td>\n      <td>1</td>\n      <td>0</td>\n      <td>0</td>\n      <td>0</td>\n      <td>1</td>\n      <td>0</td>\n      <td>0</td>\n      <td>0</td>\n      <td>0</td>\n    </tr>\n    <tr>\n      <th>...</th>\n      <td>...</td>\n      <td>...</td>\n      <td>...</td>\n      <td>...</td>\n      <td>...</td>\n      <td>...</td>\n      <td>...</td>\n      <td>...</td>\n      <td>...</td>\n      <td>...</td>\n      <td>...</td>\n    </tr>\n    <tr>\n      <th>1995</th>\n      <td>0</td>\n      <td>0</td>\n      <td>1</td>\n      <td>0</td>\n      <td>0</td>\n      <td>1</td>\n      <td>1</td>\n      <td>1</td>\n      <td>0</td>\n      <td>1</td>\n      <td>1</td>\n    </tr>\n    <tr>\n      <th>1996</th>\n      <td>0</td>\n      <td>0</td>\n      <td>0</td>\n      <td>0</td>\n      <td>0</td>\n      <td>0</td>\n      <td>0</td>\n      <td>0</td>\n      <td>0</td>\n      <td>0</td>\n      <td>0</td>\n    </tr>\n    <tr>\n      <th>1997</th>\n      <td>0</td>\n      <td>0</td>\n      <td>0</td>\n      <td>0</td>\n      <td>0</td>\n      <td>0</td>\n      <td>0</td>\n      <td>0</td>\n      <td>0</td>\n      <td>0</td>\n      <td>0</td>\n    </tr>\n    <tr>\n      <th>1998</th>\n      <td>0</td>\n      <td>0</td>\n      <td>1</td>\n      <td>0</td>\n      <td>0</td>\n      <td>0</td>\n      <td>0</td>\n      <td>0</td>\n      <td>0</td>\n      <td>0</td>\n      <td>0</td>\n    </tr>\n    <tr>\n      <th>1999</th>\n      <td>0</td>\n      <td>0</td>\n      <td>0</td>\n      <td>0</td>\n      <td>0</td>\n      <td>0</td>\n      <td>0</td>\n      <td>0</td>\n      <td>0</td>\n      <td>0</td>\n      <td>0</td>\n    </tr>\n  </tbody>\n</table>\n<p>2000 rows × 11 columns</p>\n</div>",
            "text/plain": "      ChildBks  YouthBks  CookBks  DoItYBks  RefBks  ArtBks  GeogBks  ItalCook  ItalAtlas  ItalArt  Florence\n0            0         1        0         1       0       0        1         0          0        0         0\n1            1         0        0         0       0       0        0         0          0        0         0\n2            0         0        0         0       0       0        0         0          0        0         0\n3            1         1        1         0       1       0        1         0          0        0         0\n4            0         0        1         0       0       0        1         0          0        0         0\n...        ...       ...      ...       ...     ...     ...      ...       ...        ...      ...       ...\n1995         0         0        1         0       0       1        1         1          0        1         1\n1996         0         0        0         0       0       0        0         0          0        0         0\n1997         0         0        0         0       0       0        0         0          0        0         0\n1998         0         0        1         0       0       0        0         0          0        0         0\n1999         0         0        0         0       0       0        0         0          0        0         0\n\n[2000 rows x 11 columns]"
          },
          "execution_count": 5,
          "metadata": {},
          "output_type": "execute_result"
        }
      ]
    },
    {
      "metadata": {},
      "id": "36870ec6",
      "cell_type": "markdown",
      "source": "10% Support & 50% Threshold"
    },
    {
      "metadata": {
        "ExecuteTime": {
          "end_time": "2023-06-04T13:46:32.952811Z",
          "start_time": "2023-06-04T13:46:32.850177Z"
        },
        "trusted": false
      },
      "id": "47fad88d",
      "cell_type": "code",
      "source": "freq_book=apriori(book,min_support=0.1,use_colnames=True)\nfreq_book",
      "execution_count": 10,
      "outputs": [
        {
          "data": {
            "text/html": "<div>\n<style scoped>\n    .dataframe tbody tr th:only-of-type {\n        vertical-align: middle;\n    }\n\n    .dataframe tbody tr th {\n        vertical-align: top;\n    }\n\n    .dataframe thead th {\n        text-align: right;\n    }\n</style>\n<table border=\"1\" class=\"dataframe\">\n  <thead>\n    <tr style=\"text-align: right;\">\n      <th></th>\n      <th>support</th>\n      <th>itemsets</th>\n    </tr>\n  </thead>\n  <tbody>\n    <tr>\n      <th>0</th>\n      <td>0.4230</td>\n      <td>(ChildBks)</td>\n    </tr>\n    <tr>\n      <th>1</th>\n      <td>0.2475</td>\n      <td>(YouthBks)</td>\n    </tr>\n    <tr>\n      <th>2</th>\n      <td>0.4310</td>\n      <td>(CookBks)</td>\n    </tr>\n    <tr>\n      <th>3</th>\n      <td>0.2820</td>\n      <td>(DoItYBks)</td>\n    </tr>\n    <tr>\n      <th>4</th>\n      <td>0.2145</td>\n      <td>(RefBks)</td>\n    </tr>\n    <tr>\n      <th>5</th>\n      <td>0.2410</td>\n      <td>(ArtBks)</td>\n    </tr>\n    <tr>\n      <th>6</th>\n      <td>0.2760</td>\n      <td>(GeogBks)</td>\n    </tr>\n    <tr>\n      <th>7</th>\n      <td>0.1135</td>\n      <td>(ItalCook)</td>\n    </tr>\n    <tr>\n      <th>8</th>\n      <td>0.1085</td>\n      <td>(Florence)</td>\n    </tr>\n    <tr>\n      <th>9</th>\n      <td>0.1650</td>\n      <td>(YouthBks, ChildBks)</td>\n    </tr>\n    <tr>\n      <th>10</th>\n      <td>0.2560</td>\n      <td>(CookBks, ChildBks)</td>\n    </tr>\n    <tr>\n      <th>11</th>\n      <td>0.1840</td>\n      <td>(ChildBks, DoItYBks)</td>\n    </tr>\n    <tr>\n      <th>12</th>\n      <td>0.1515</td>\n      <td>(RefBks, ChildBks)</td>\n    </tr>\n    <tr>\n      <th>13</th>\n      <td>0.1625</td>\n      <td>(ChildBks, ArtBks)</td>\n    </tr>\n    <tr>\n      <th>14</th>\n      <td>0.1950</td>\n      <td>(ChildBks, GeogBks)</td>\n    </tr>\n    <tr>\n      <th>15</th>\n      <td>0.1620</td>\n      <td>(YouthBks, CookBks)</td>\n    </tr>\n    <tr>\n      <th>16</th>\n      <td>0.1155</td>\n      <td>(YouthBks, DoItYBks)</td>\n    </tr>\n    <tr>\n      <th>17</th>\n      <td>0.1010</td>\n      <td>(YouthBks, ArtBks)</td>\n    </tr>\n    <tr>\n      <th>18</th>\n      <td>0.1205</td>\n      <td>(YouthBks, GeogBks)</td>\n    </tr>\n    <tr>\n      <th>19</th>\n      <td>0.1875</td>\n      <td>(CookBks, DoItYBks)</td>\n    </tr>\n    <tr>\n      <th>20</th>\n      <td>0.1525</td>\n      <td>(RefBks, CookBks)</td>\n    </tr>\n    <tr>\n      <th>21</th>\n      <td>0.1670</td>\n      <td>(CookBks, ArtBks)</td>\n    </tr>\n    <tr>\n      <th>22</th>\n      <td>0.1925</td>\n      <td>(CookBks, GeogBks)</td>\n    </tr>\n    <tr>\n      <th>23</th>\n      <td>0.1135</td>\n      <td>(CookBks, ItalCook)</td>\n    </tr>\n    <tr>\n      <th>24</th>\n      <td>0.1055</td>\n      <td>(RefBks, DoItYBks)</td>\n    </tr>\n    <tr>\n      <th>25</th>\n      <td>0.1235</td>\n      <td>(DoItYBks, ArtBks)</td>\n    </tr>\n    <tr>\n      <th>26</th>\n      <td>0.1325</td>\n      <td>(DoItYBks, GeogBks)</td>\n    </tr>\n    <tr>\n      <th>27</th>\n      <td>0.1105</td>\n      <td>(RefBks, GeogBks)</td>\n    </tr>\n    <tr>\n      <th>28</th>\n      <td>0.1275</td>\n      <td>(ArtBks, GeogBks)</td>\n    </tr>\n    <tr>\n      <th>29</th>\n      <td>0.1290</td>\n      <td>(YouthBks, CookBks, ChildBks)</td>\n    </tr>\n    <tr>\n      <th>30</th>\n      <td>0.1460</td>\n      <td>(CookBks, ChildBks, DoItYBks)</td>\n    </tr>\n    <tr>\n      <th>31</th>\n      <td>0.1225</td>\n      <td>(RefBks, CookBks, ChildBks)</td>\n    </tr>\n    <tr>\n      <th>32</th>\n      <td>0.1265</td>\n      <td>(CookBks, ChildBks, ArtBks)</td>\n    </tr>\n    <tr>\n      <th>33</th>\n      <td>0.1495</td>\n      <td>(CookBks, ChildBks, GeogBks)</td>\n    </tr>\n    <tr>\n      <th>34</th>\n      <td>0.1045</td>\n      <td>(ChildBks, GeogBks, DoItYBks)</td>\n    </tr>\n    <tr>\n      <th>35</th>\n      <td>0.1020</td>\n      <td>(ChildBks, GeogBks, ArtBks)</td>\n    </tr>\n    <tr>\n      <th>36</th>\n      <td>0.1015</td>\n      <td>(CookBks, DoItYBks, ArtBks)</td>\n    </tr>\n    <tr>\n      <th>37</th>\n      <td>0.1085</td>\n      <td>(CookBks, DoItYBks, GeogBks)</td>\n    </tr>\n    <tr>\n      <th>38</th>\n      <td>0.1035</td>\n      <td>(CookBks, ArtBks, GeogBks)</td>\n    </tr>\n  </tbody>\n</table>\n</div>",
            "text/plain": "    support                       itemsets\n0    0.4230                     (ChildBks)\n1    0.2475                     (YouthBks)\n2    0.4310                      (CookBks)\n3    0.2820                     (DoItYBks)\n4    0.2145                       (RefBks)\n5    0.2410                       (ArtBks)\n6    0.2760                      (GeogBks)\n7    0.1135                     (ItalCook)\n8    0.1085                     (Florence)\n9    0.1650           (YouthBks, ChildBks)\n10   0.2560            (CookBks, ChildBks)\n11   0.1840           (ChildBks, DoItYBks)\n12   0.1515             (RefBks, ChildBks)\n13   0.1625             (ChildBks, ArtBks)\n14   0.1950            (ChildBks, GeogBks)\n15   0.1620            (YouthBks, CookBks)\n16   0.1155           (YouthBks, DoItYBks)\n17   0.1010             (YouthBks, ArtBks)\n18   0.1205            (YouthBks, GeogBks)\n19   0.1875            (CookBks, DoItYBks)\n20   0.1525              (RefBks, CookBks)\n21   0.1670              (CookBks, ArtBks)\n22   0.1925             (CookBks, GeogBks)\n23   0.1135            (CookBks, ItalCook)\n24   0.1055             (RefBks, DoItYBks)\n25   0.1235             (DoItYBks, ArtBks)\n26   0.1325            (DoItYBks, GeogBks)\n27   0.1105              (RefBks, GeogBks)\n28   0.1275              (ArtBks, GeogBks)\n29   0.1290  (YouthBks, CookBks, ChildBks)\n30   0.1460  (CookBks, ChildBks, DoItYBks)\n31   0.1225    (RefBks, CookBks, ChildBks)\n32   0.1265    (CookBks, ChildBks, ArtBks)\n33   0.1495   (CookBks, ChildBks, GeogBks)\n34   0.1045  (ChildBks, GeogBks, DoItYBks)\n35   0.1020    (ChildBks, GeogBks, ArtBks)\n36   0.1015    (CookBks, DoItYBks, ArtBks)\n37   0.1085   (CookBks, DoItYBks, GeogBks)\n38   0.1035     (CookBks, ArtBks, GeogBks)"
          },
          "execution_count": 10,
          "metadata": {},
          "output_type": "execute_result"
        }
      ]
    },
    {
      "metadata": {
        "ExecuteTime": {
          "end_time": "2023-06-04T13:46:43.639301Z",
          "start_time": "2023-06-04T13:46:43.345236Z"
        },
        "trusted": false
      },
      "id": "1691c5e7",
      "cell_type": "code",
      "source": "rule_book=association_rules(freq_book,metric='lift',min_threshold=0.5)\nrule_book",
      "execution_count": 11,
      "outputs": [
        {
          "data": {
            "text/html": "<div>\n<style scoped>\n    .dataframe tbody tr th:only-of-type {\n        vertical-align: middle;\n    }\n\n    .dataframe tbody tr th {\n        vertical-align: top;\n    }\n\n    .dataframe thead th {\n        text-align: right;\n    }\n</style>\n<table border=\"1\" class=\"dataframe\">\n  <thead>\n    <tr style=\"text-align: right;\">\n      <th></th>\n      <th>antecedents</th>\n      <th>consequents</th>\n      <th>antecedent support</th>\n      <th>consequent support</th>\n      <th>support</th>\n      <th>confidence</th>\n      <th>lift</th>\n      <th>leverage</th>\n      <th>conviction</th>\n    </tr>\n  </thead>\n  <tbody>\n    <tr>\n      <th>0</th>\n      <td>(YouthBks)</td>\n      <td>(ChildBks)</td>\n      <td>0.2475</td>\n      <td>0.4230</td>\n      <td>0.1650</td>\n      <td>0.666667</td>\n      <td>1.576044</td>\n      <td>0.060308</td>\n      <td>1.731000</td>\n    </tr>\n    <tr>\n      <th>1</th>\n      <td>(ChildBks)</td>\n      <td>(YouthBks)</td>\n      <td>0.4230</td>\n      <td>0.2475</td>\n      <td>0.1650</td>\n      <td>0.390071</td>\n      <td>1.576044</td>\n      <td>0.060308</td>\n      <td>1.233750</td>\n    </tr>\n    <tr>\n      <th>2</th>\n      <td>(CookBks)</td>\n      <td>(ChildBks)</td>\n      <td>0.4310</td>\n      <td>0.4230</td>\n      <td>0.2560</td>\n      <td>0.593968</td>\n      <td>1.404179</td>\n      <td>0.073687</td>\n      <td>1.421069</td>\n    </tr>\n    <tr>\n      <th>3</th>\n      <td>(ChildBks)</td>\n      <td>(CookBks)</td>\n      <td>0.4230</td>\n      <td>0.4310</td>\n      <td>0.2560</td>\n      <td>0.605201</td>\n      <td>1.404179</td>\n      <td>0.073687</td>\n      <td>1.441240</td>\n    </tr>\n    <tr>\n      <th>4</th>\n      <td>(ChildBks)</td>\n      <td>(DoItYBks)</td>\n      <td>0.4230</td>\n      <td>0.2820</td>\n      <td>0.1840</td>\n      <td>0.434988</td>\n      <td>1.542511</td>\n      <td>0.064714</td>\n      <td>1.270770</td>\n    </tr>\n    <tr>\n      <th>...</th>\n      <td>...</td>\n      <td>...</td>\n      <td>...</td>\n      <td>...</td>\n      <td>...</td>\n      <td>...</td>\n      <td>...</td>\n      <td>...</td>\n      <td>...</td>\n    </tr>\n    <tr>\n      <th>95</th>\n      <td>(CookBks, GeogBks)</td>\n      <td>(ArtBks)</td>\n      <td>0.1925</td>\n      <td>0.2410</td>\n      <td>0.1035</td>\n      <td>0.537662</td>\n      <td>2.230964</td>\n      <td>0.057107</td>\n      <td>1.641657</td>\n    </tr>\n    <tr>\n      <th>96</th>\n      <td>(ArtBks, GeogBks)</td>\n      <td>(CookBks)</td>\n      <td>0.1275</td>\n      <td>0.4310</td>\n      <td>0.1035</td>\n      <td>0.811765</td>\n      <td>1.883445</td>\n      <td>0.048547</td>\n      <td>3.022812</td>\n    </tr>\n    <tr>\n      <th>97</th>\n      <td>(CookBks)</td>\n      <td>(ArtBks, GeogBks)</td>\n      <td>0.4310</td>\n      <td>0.1275</td>\n      <td>0.1035</td>\n      <td>0.240139</td>\n      <td>1.883445</td>\n      <td>0.048547</td>\n      <td>1.148237</td>\n    </tr>\n    <tr>\n      <th>98</th>\n      <td>(ArtBks)</td>\n      <td>(CookBks, GeogBks)</td>\n      <td>0.2410</td>\n      <td>0.1925</td>\n      <td>0.1035</td>\n      <td>0.429461</td>\n      <td>2.230964</td>\n      <td>0.057107</td>\n      <td>1.415327</td>\n    </tr>\n    <tr>\n      <th>99</th>\n      <td>(GeogBks)</td>\n      <td>(CookBks, ArtBks)</td>\n      <td>0.2760</td>\n      <td>0.1670</td>\n      <td>0.1035</td>\n      <td>0.375000</td>\n      <td>2.245509</td>\n      <td>0.057408</td>\n      <td>1.332800</td>\n    </tr>\n  </tbody>\n</table>\n<p>100 rows × 9 columns</p>\n</div>",
            "text/plain": "           antecedents         consequents  antecedent support  ...      lift  leverage  conviction\n0           (YouthBks)          (ChildBks)              0.2475  ...  1.576044  0.060308    1.731000\n1           (ChildBks)          (YouthBks)              0.4230  ...  1.576044  0.060308    1.233750\n2            (CookBks)          (ChildBks)              0.4310  ...  1.404179  0.073687    1.421069\n3           (ChildBks)           (CookBks)              0.4230  ...  1.404179  0.073687    1.441240\n4           (ChildBks)          (DoItYBks)              0.4230  ...  1.542511  0.064714    1.270770\n..                 ...                 ...                 ...  ...       ...       ...         ...\n95  (CookBks, GeogBks)            (ArtBks)              0.1925  ...  2.230964  0.057107    1.641657\n96   (ArtBks, GeogBks)           (CookBks)              0.1275  ...  1.883445  0.048547    3.022812\n97           (CookBks)   (ArtBks, GeogBks)              0.4310  ...  1.883445  0.048547    1.148237\n98            (ArtBks)  (CookBks, GeogBks)              0.2410  ...  2.230964  0.057107    1.415327\n99           (GeogBks)   (CookBks, ArtBks)              0.2760  ...  2.245509  0.057408    1.332800\n\n[100 rows x 9 columns]"
          },
          "execution_count": 11,
          "metadata": {},
          "output_type": "execute_result"
        }
      ]
    },
    {
      "metadata": {
        "ExecuteTime": {
          "end_time": "2023-06-04T13:46:53.035478Z",
          "start_time": "2023-06-04T13:46:52.956494Z"
        },
        "trusted": false
      },
      "id": "c6f06637",
      "cell_type": "code",
      "source": "rule_book.sort_values('lift',ascending=False)",
      "execution_count": 12,
      "outputs": [
        {
          "data": {
            "text/html": "<div>\n<style scoped>\n    .dataframe tbody tr th:only-of-type {\n        vertical-align: middle;\n    }\n\n    .dataframe tbody tr th {\n        vertical-align: top;\n    }\n\n    .dataframe thead th {\n        text-align: right;\n    }\n</style>\n<table border=\"1\" class=\"dataframe\">\n  <thead>\n    <tr style=\"text-align: right;\">\n      <th></th>\n      <th>antecedents</th>\n      <th>consequents</th>\n      <th>antecedent support</th>\n      <th>consequent support</th>\n      <th>support</th>\n      <th>confidence</th>\n      <th>lift</th>\n      <th>leverage</th>\n      <th>conviction</th>\n    </tr>\n  </thead>\n  <tbody>\n    <tr>\n      <th>28</th>\n      <td>(CookBks)</td>\n      <td>(ItalCook)</td>\n      <td>0.4310</td>\n      <td>0.1135</td>\n      <td>0.1135</td>\n      <td>0.263341</td>\n      <td>2.320186</td>\n      <td>0.064582</td>\n      <td>1.203406</td>\n    </tr>\n    <tr>\n      <th>29</th>\n      <td>(ItalCook)</td>\n      <td>(CookBks)</td>\n      <td>0.1135</td>\n      <td>0.4310</td>\n      <td>0.1135</td>\n      <td>1.000000</td>\n      <td>2.320186</td>\n      <td>0.064582</td>\n      <td>inf</td>\n    </tr>\n    <tr>\n      <th>77</th>\n      <td>(ChildBks, ArtBks)</td>\n      <td>(GeogBks)</td>\n      <td>0.1625</td>\n      <td>0.2760</td>\n      <td>0.1020</td>\n      <td>0.627692</td>\n      <td>2.274247</td>\n      <td>0.057150</td>\n      <td>1.944628</td>\n    </tr>\n    <tr>\n      <th>80</th>\n      <td>(GeogBks)</td>\n      <td>(ChildBks, ArtBks)</td>\n      <td>0.2760</td>\n      <td>0.1625</td>\n      <td>0.1020</td>\n      <td>0.369565</td>\n      <td>2.274247</td>\n      <td>0.057150</td>\n      <td>1.328448</td>\n    </tr>\n    <tr>\n      <th>87</th>\n      <td>(ArtBks)</td>\n      <td>(CookBks, DoItYBks)</td>\n      <td>0.2410</td>\n      <td>0.1875</td>\n      <td>0.1015</td>\n      <td>0.421162</td>\n      <td>2.246196</td>\n      <td>0.056313</td>\n      <td>1.403674</td>\n    </tr>\n    <tr>\n      <th>...</th>\n      <td>...</td>\n      <td>...</td>\n      <td>...</td>\n      <td>...</td>\n      <td>...</td>\n      <td>...</td>\n      <td>...</td>\n      <td>...</td>\n      <td>...</td>\n    </tr>\n    <tr>\n      <th>5</th>\n      <td>(DoItYBks)</td>\n      <td>(ChildBks)</td>\n      <td>0.2820</td>\n      <td>0.4230</td>\n      <td>0.1840</td>\n      <td>0.652482</td>\n      <td>1.542511</td>\n      <td>0.064714</td>\n      <td>1.660347</td>\n    </tr>\n    <tr>\n      <th>12</th>\n      <td>(YouthBks)</td>\n      <td>(CookBks)</td>\n      <td>0.2475</td>\n      <td>0.4310</td>\n      <td>0.1620</td>\n      <td>0.654545</td>\n      <td>1.518667</td>\n      <td>0.055328</td>\n      <td>1.647105</td>\n    </tr>\n    <tr>\n      <th>13</th>\n      <td>(CookBks)</td>\n      <td>(YouthBks)</td>\n      <td>0.4310</td>\n      <td>0.2475</td>\n      <td>0.1620</td>\n      <td>0.375870</td>\n      <td>1.518667</td>\n      <td>0.055328</td>\n      <td>1.205678</td>\n    </tr>\n    <tr>\n      <th>3</th>\n      <td>(ChildBks)</td>\n      <td>(CookBks)</td>\n      <td>0.4230</td>\n      <td>0.4310</td>\n      <td>0.2560</td>\n      <td>0.605201</td>\n      <td>1.404179</td>\n      <td>0.073687</td>\n      <td>1.441240</td>\n    </tr>\n    <tr>\n      <th>2</th>\n      <td>(CookBks)</td>\n      <td>(ChildBks)</td>\n      <td>0.4310</td>\n      <td>0.4230</td>\n      <td>0.2560</td>\n      <td>0.593968</td>\n      <td>1.404179</td>\n      <td>0.073687</td>\n      <td>1.421069</td>\n    </tr>\n  </tbody>\n</table>\n<p>100 rows × 9 columns</p>\n</div>",
            "text/plain": "           antecedents          consequents  antecedent support  ...      lift  leverage  conviction\n28           (CookBks)           (ItalCook)              0.4310  ...  2.320186  0.064582    1.203406\n29          (ItalCook)            (CookBks)              0.1135  ...  2.320186  0.064582         inf\n77  (ChildBks, ArtBks)            (GeogBks)              0.1625  ...  2.274247  0.057150    1.944628\n80           (GeogBks)   (ChildBks, ArtBks)              0.2760  ...  2.274247  0.057150    1.328448\n87            (ArtBks)  (CookBks, DoItYBks)              0.2410  ...  2.246196  0.056313    1.403674\n..                 ...                  ...                 ...  ...       ...       ...         ...\n5           (DoItYBks)           (ChildBks)              0.2820  ...  1.542511  0.064714    1.660347\n12          (YouthBks)            (CookBks)              0.2475  ...  1.518667  0.055328    1.647105\n13           (CookBks)           (YouthBks)              0.4310  ...  1.518667  0.055328    1.205678\n3           (ChildBks)            (CookBks)              0.4230  ...  1.404179  0.073687    1.441240\n2            (CookBks)           (ChildBks)              0.4310  ...  1.404179  0.073687    1.421069\n\n[100 rows x 9 columns]"
          },
          "execution_count": 12,
          "metadata": {},
          "output_type": "execute_result"
        }
      ]
    },
    {
      "metadata": {
        "ExecuteTime": {
          "end_time": "2023-06-04T13:53:26.370068Z",
          "start_time": "2023-06-04T13:53:26.003148Z"
        },
        "trusted": false
      },
      "id": "12111d56",
      "cell_type": "code",
      "source": "plt.plot(rule_book['support'],rule_book['lift'],'ro')\nplt.xlabel('Support')\nplt.ylabel('Lift Values')",
      "execution_count": 14,
      "outputs": [
        {
          "data": {
            "text/plain": "Text(0, 0.5, 'Lift Values')"
          },
          "execution_count": 14,
          "metadata": {},
          "output_type": "execute_result"
        },
        {
          "data": {
            "image/png": "[encoded data removed]",
            "text/plain": "<Figure size 432x288 with 1 Axes>"
          },
          "metadata": {
            "needs_background": "light"
          },
          "output_type": "display_data"
        }
      ]
    },
    {
      "metadata": {
        "ExecuteTime": {
          "end_time": "2023-06-04T13:54:13.437603Z",
          "start_time": "2023-06-04T13:54:13.096927Z"
        },
        "trusted": false
      },
      "id": "f98e91b5",
      "cell_type": "code",
      "source": "plt.plot(rule_book['support'],rule_book['confidence'],'bo')\nplt.xlabel('Support')\nplt.ylabel('Confidence')",
      "execution_count": 15,
      "outputs": [
        {
          "data": {
            "text/plain": "Text(0, 0.5, 'Confidence')"
          },
          "execution_count": 15,
          "metadata": {},
          "output_type": "execute_result"
        },
        {
          "data": {
            "image/png": "[encoded data removed]",
            "text/plain": "<Figure size 432x288 with 1 Axes>"
          },
          "metadata": {
            "needs_background": "light"
          },
          "output_type": "display_data"
        }
      ]
    },
    {
      "metadata": {
        "ExecuteTime": {
          "end_time": "2023-06-04T13:59:09.928923Z",
          "start_time": "2023-06-04T13:59:09.867590Z"
        }
      },
      "id": "e0a9f226",
      "cell_type": "markdown",
      "source": "20% Support & 60% Threshold"
    },
    {
      "metadata": {
        "ExecuteTime": {
          "end_time": "2023-06-04T14:00:28.512506Z",
          "start_time": "2023-06-04T14:00:28.453799Z"
        },
        "trusted": false
      },
      "id": "648fb863",
      "cell_type": "code",
      "source": "freq_book_1=apriori(book,min_support=0.2,use_colnames=True)\nfreq_book_1",
      "execution_count": 19,
      "outputs": [
        {
          "data": {
            "text/html": "<div>\n<style scoped>\n    .dataframe tbody tr th:only-of-type {\n        vertical-align: middle;\n    }\n\n    .dataframe tbody tr th {\n        vertical-align: top;\n    }\n\n    .dataframe thead th {\n        text-align: right;\n    }\n</style>\n<table border=\"1\" class=\"dataframe\">\n  <thead>\n    <tr style=\"text-align: right;\">\n      <th></th>\n      <th>support</th>\n      <th>itemsets</th>\n    </tr>\n  </thead>\n  <tbody>\n    <tr>\n      <th>0</th>\n      <td>0.4230</td>\n      <td>(ChildBks)</td>\n    </tr>\n    <tr>\n      <th>1</th>\n      <td>0.2475</td>\n      <td>(YouthBks)</td>\n    </tr>\n    <tr>\n      <th>2</th>\n      <td>0.4310</td>\n      <td>(CookBks)</td>\n    </tr>\n    <tr>\n      <th>3</th>\n      <td>0.2820</td>\n      <td>(DoItYBks)</td>\n    </tr>\n    <tr>\n      <th>4</th>\n      <td>0.2145</td>\n      <td>(RefBks)</td>\n    </tr>\n    <tr>\n      <th>5</th>\n      <td>0.2410</td>\n      <td>(ArtBks)</td>\n    </tr>\n    <tr>\n      <th>6</th>\n      <td>0.2760</td>\n      <td>(GeogBks)</td>\n    </tr>\n    <tr>\n      <th>7</th>\n      <td>0.2560</td>\n      <td>(CookBks, ChildBks)</td>\n    </tr>\n  </tbody>\n</table>\n</div>",
            "text/plain": "   support             itemsets\n0   0.4230           (ChildBks)\n1   0.2475           (YouthBks)\n2   0.4310            (CookBks)\n3   0.2820           (DoItYBks)\n4   0.2145             (RefBks)\n5   0.2410             (ArtBks)\n6   0.2760            (GeogBks)\n7   0.2560  (CookBks, ChildBks)"
          },
          "execution_count": 19,
          "metadata": {},
          "output_type": "execute_result"
        }
      ]
    },
    {
      "metadata": {
        "ExecuteTime": {
          "end_time": "2023-06-04T14:00:40.065561Z",
          "start_time": "2023-06-04T14:00:39.999250Z"
        },
        "trusted": false
      },
      "id": "94708bcf",
      "cell_type": "code",
      "source": "rule_book_1=association_rules(freq_book,metric='lift',min_threshold=0.6)\nrule_book_1",
      "execution_count": 20,
      "outputs": [
        {
          "data": {
            "text/html": "<div>\n<style scoped>\n    .dataframe tbody tr th:only-of-type {\n        vertical-align: middle;\n    }\n\n    .dataframe tbody tr th {\n        vertical-align: top;\n    }\n\n    .dataframe thead th {\n        text-align: right;\n    }\n</style>\n<table border=\"1\" class=\"dataframe\">\n  <thead>\n    <tr style=\"text-align: right;\">\n      <th></th>\n      <th>antecedents</th>\n      <th>consequents</th>\n      <th>antecedent support</th>\n      <th>consequent support</th>\n      <th>support</th>\n      <th>confidence</th>\n      <th>lift</th>\n      <th>leverage</th>\n      <th>conviction</th>\n    </tr>\n  </thead>\n  <tbody>\n    <tr>\n      <th>0</th>\n      <td>(CookBks)</td>\n      <td>(ChildBks)</td>\n      <td>0.431</td>\n      <td>0.423</td>\n      <td>0.256</td>\n      <td>0.593968</td>\n      <td>1.404179</td>\n      <td>0.073687</td>\n      <td>1.421069</td>\n    </tr>\n    <tr>\n      <th>1</th>\n      <td>(ChildBks)</td>\n      <td>(CookBks)</td>\n      <td>0.423</td>\n      <td>0.431</td>\n      <td>0.256</td>\n      <td>0.605201</td>\n      <td>1.404179</td>\n      <td>0.073687</td>\n      <td>1.441240</td>\n    </tr>\n  </tbody>\n</table>\n</div>",
            "text/plain": "  antecedents consequents  antecedent support  consequent support  support  confidence      lift  leverage  conviction\n0   (CookBks)  (ChildBks)               0.431               0.423    0.256    0.593968  1.404179  0.073687    1.421069\n1  (ChildBks)   (CookBks)               0.423               0.431    0.256    0.605201  1.404179  0.073687    1.441240"
          },
          "execution_count": 20,
          "metadata": {},
          "output_type": "execute_result"
        }
      ]
    },
    {
      "metadata": {
        "ExecuteTime": {
          "end_time": "2023-06-04T14:01:02.616131Z",
          "start_time": "2023-06-04T14:01:02.558241Z"
        },
        "trusted": false
      },
      "id": "9140127d",
      "cell_type": "code",
      "source": "rule_book_1.sort_values('lift',ascending=False)",
      "execution_count": 21,
      "outputs": [
        {
          "data": {
            "text/html": "<div>\n<style scoped>\n    .dataframe tbody tr th:only-of-type {\n        vertical-align: middle;\n    }\n\n    .dataframe tbody tr th {\n        vertical-align: top;\n    }\n\n    .dataframe thead th {\n        text-align: right;\n    }\n</style>\n<table border=\"1\" class=\"dataframe\">\n  <thead>\n    <tr style=\"text-align: right;\">\n      <th></th>\n      <th>antecedents</th>\n      <th>consequents</th>\n      <th>antecedent support</th>\n      <th>consequent support</th>\n      <th>support</th>\n      <th>confidence</th>\n      <th>lift</th>\n      <th>leverage</th>\n      <th>conviction</th>\n    </tr>\n  </thead>\n  <tbody>\n    <tr>\n      <th>0</th>\n      <td>(CookBks)</td>\n      <td>(ChildBks)</td>\n      <td>0.431</td>\n      <td>0.423</td>\n      <td>0.256</td>\n      <td>0.593968</td>\n      <td>1.404179</td>\n      <td>0.073687</td>\n      <td>1.421069</td>\n    </tr>\n    <tr>\n      <th>1</th>\n      <td>(ChildBks)</td>\n      <td>(CookBks)</td>\n      <td>0.423</td>\n      <td>0.431</td>\n      <td>0.256</td>\n      <td>0.605201</td>\n      <td>1.404179</td>\n      <td>0.073687</td>\n      <td>1.441240</td>\n    </tr>\n  </tbody>\n</table>\n</div>",
            "text/plain": "  antecedents consequents  antecedent support  consequent support  support  confidence      lift  leverage  conviction\n0   (CookBks)  (ChildBks)               0.431               0.423    0.256    0.593968  1.404179  0.073687    1.421069\n1  (ChildBks)   (CookBks)               0.423               0.431    0.256    0.605201  1.404179  0.073687    1.441240"
          },
          "execution_count": 21,
          "metadata": {},
          "output_type": "execute_result"
        }
      ]
    },
    {
      "metadata": {
        "ExecuteTime": {
          "end_time": "2023-06-04T14:01:42.252360Z",
          "start_time": "2023-06-04T14:01:41.917288Z"
        },
        "trusted": false
      },
      "id": "3424691b",
      "cell_type": "code",
      "source": "plt.plot(rule_book_1['support'],rule_book_1['lift'],'ro')\nplt.xlabel('Support')\nplt.ylabel('Lift Values')",
      "execution_count": 22,
      "outputs": [
        {
          "data": {
            "text/plain": "Text(0, 0.5, 'Lift Values')"
          },
          "execution_count": 22,
          "metadata": {},
          "output_type": "execute_result"
        },
        {
          "data": {
            "image/png": "[encoded data removed]",
            "text/plain": "<Figure size 432x288 with 1 Axes>"
          },
          "metadata": {
            "needs_background": "light"
          },
          "output_type": "display_data"
        }
      ]
    },
    {
      "metadata": {
        "ExecuteTime": {
          "end_time": "2023-06-04T14:02:38.292946Z",
          "start_time": "2023-06-04T14:02:37.961488Z"
        },
        "trusted": false
      },
      "id": "2317c9d0",
      "cell_type": "code",
      "source": "plt.plot(rule_book_1['support'],rule_book_1['confidence'],'bo')\nplt.xlabel('Support')\nplt.ylabel('Confidence')",
      "execution_count": 23,
      "outputs": [
        {
          "data": {
            "text/plain": "Text(0, 0.5, 'Confidence')"
          },
          "execution_count": 23,
          "metadata": {},
          "output_type": "execute_result"
        },
        {
          "data": {
            "image/png": "[encoded data removed]",
            "text/plain": "<Figure size 432x288 with 1 Axes>"
          },
          "metadata": {
            "needs_background": "light"
          },
          "output_type": "display_data"
        }
      ]
    },
    {
      "metadata": {},
      "id": "f64afc05",
      "cell_type": "markdown",
      "source": "# Movies"
    },
    {
      "metadata": {
        "ExecuteTime": {
          "end_time": "2023-06-04T14:07:34.100377Z",
          "start_time": "2023-06-04T14:07:34.020772Z"
        },
        "trusted": false
      },
      "id": "d811b244",
      "cell_type": "code",
      "source": "movies=pd.read_csv('my_movies.csv')\nmovies",
      "execution_count": 27,
      "outputs": [
        {
          "data": {
            "text/html": "<div>\n<style scoped>\n    .dataframe tbody tr th:only-of-type {\n        vertical-align: middle;\n    }\n\n    .dataframe tbody tr th {\n        vertical-align: top;\n    }\n\n    .dataframe thead th {\n        text-align: right;\n    }\n</style>\n<table border=\"1\" class=\"dataframe\">\n  <thead>\n    <tr style=\"text-align: right;\">\n      <th></th>\n      <th>V1</th>\n      <th>V2</th>\n      <th>V3</th>\n      <th>V4</th>\n      <th>V5</th>\n      <th>Sixth Sense</th>\n      <th>Gladiator</th>\n      <th>LOTR1</th>\n      <th>Harry Potter1</th>\n      <th>Patriot</th>\n      <th>LOTR2</th>\n      <th>Harry Potter2</th>\n      <th>LOTR</th>\n      <th>Braveheart</th>\n      <th>Green Mile</th>\n    </tr>\n  </thead>\n  <tbody>\n    <tr>\n      <th>0</th>\n      <td>Sixth Sense</td>\n      <td>LOTR1</td>\n      <td>Harry Potter1</td>\n      <td>Green Mile</td>\n      <td>LOTR2</td>\n      <td>1</td>\n      <td>0</td>\n      <td>1</td>\n      <td>1</td>\n      <td>0</td>\n      <td>1</td>\n      <td>0</td>\n      <td>0</td>\n      <td>0</td>\n      <td>1</td>\n    </tr>\n    <tr>\n      <th>1</th>\n      <td>Gladiator</td>\n      <td>Patriot</td>\n      <td>Braveheart</td>\n      <td>NaN</td>\n      <td>NaN</td>\n      <td>0</td>\n      <td>1</td>\n      <td>0</td>\n      <td>0</td>\n      <td>1</td>\n      <td>0</td>\n      <td>0</td>\n      <td>0</td>\n      <td>1</td>\n      <td>0</td>\n    </tr>\n    <tr>\n      <th>2</th>\n      <td>LOTR1</td>\n      <td>LOTR2</td>\n      <td>NaN</td>\n      <td>NaN</td>\n      <td>NaN</td>\n      <td>0</td>\n      <td>0</td>\n      <td>1</td>\n      <td>0</td>\n      <td>0</td>\n      <td>1</td>\n      <td>0</td>\n      <td>0</td>\n      <td>0</td>\n      <td>0</td>\n    </tr>\n    <tr>\n      <th>3</th>\n      <td>Gladiator</td>\n      <td>Patriot</td>\n      <td>Sixth Sense</td>\n      <td>NaN</td>\n      <td>NaN</td>\n      <td>1</td>\n      <td>1</td>\n      <td>0</td>\n      <td>0</td>\n      <td>1</td>\n      <td>0</td>\n      <td>0</td>\n      <td>0</td>\n      <td>0</td>\n      <td>0</td>\n    </tr>\n    <tr>\n      <th>4</th>\n      <td>Gladiator</td>\n      <td>Patriot</td>\n      <td>Sixth Sense</td>\n      <td>NaN</td>\n      <td>NaN</td>\n      <td>1</td>\n      <td>1</td>\n      <td>0</td>\n      <td>0</td>\n      <td>1</td>\n      <td>0</td>\n      <td>0</td>\n      <td>0</td>\n      <td>0</td>\n      <td>0</td>\n    </tr>\n    <tr>\n      <th>5</th>\n      <td>Gladiator</td>\n      <td>Patriot</td>\n      <td>Sixth Sense</td>\n      <td>NaN</td>\n      <td>NaN</td>\n      <td>1</td>\n      <td>1</td>\n      <td>0</td>\n      <td>0</td>\n      <td>1</td>\n      <td>0</td>\n      <td>0</td>\n      <td>0</td>\n      <td>0</td>\n      <td>0</td>\n    </tr>\n    <tr>\n      <th>6</th>\n      <td>Harry Potter1</td>\n      <td>Harry Potter2</td>\n      <td>NaN</td>\n      <td>NaN</td>\n      <td>NaN</td>\n      <td>0</td>\n      <td>0</td>\n      <td>0</td>\n      <td>1</td>\n      <td>0</td>\n      <td>0</td>\n      <td>1</td>\n      <td>0</td>\n      <td>0</td>\n      <td>0</td>\n    </tr>\n    <tr>\n      <th>7</th>\n      <td>Gladiator</td>\n      <td>Patriot</td>\n      <td>NaN</td>\n      <td>NaN</td>\n      <td>NaN</td>\n      <td>0</td>\n      <td>1</td>\n      <td>0</td>\n      <td>0</td>\n      <td>1</td>\n      <td>0</td>\n      <td>0</td>\n      <td>0</td>\n      <td>0</td>\n      <td>0</td>\n    </tr>\n    <tr>\n      <th>8</th>\n      <td>Gladiator</td>\n      <td>Patriot</td>\n      <td>Sixth Sense</td>\n      <td>NaN</td>\n      <td>NaN</td>\n      <td>1</td>\n      <td>1</td>\n      <td>0</td>\n      <td>0</td>\n      <td>1</td>\n      <td>0</td>\n      <td>0</td>\n      <td>0</td>\n      <td>0</td>\n      <td>0</td>\n    </tr>\n    <tr>\n      <th>9</th>\n      <td>Sixth Sense</td>\n      <td>LOTR</td>\n      <td>Gladiator</td>\n      <td>Green Mile</td>\n      <td>NaN</td>\n      <td>1</td>\n      <td>1</td>\n      <td>0</td>\n      <td>0</td>\n      <td>0</td>\n      <td>0</td>\n      <td>0</td>\n      <td>1</td>\n      <td>0</td>\n      <td>1</td>\n    </tr>\n  </tbody>\n</table>\n</div>",
            "text/plain": "              V1             V2             V3          V4     V5  ...  LOTR2  Harry Potter2  LOTR  Braveheart  Green Mile\n0    Sixth Sense          LOTR1  Harry Potter1  Green Mile  LOTR2  ...      1              0     0           0           1\n1      Gladiator        Patriot     Braveheart         NaN    NaN  ...      0              0     0           1           0\n2          LOTR1          LOTR2            NaN         NaN    NaN  ...      1              0     0           0           0\n3      Gladiator        Patriot    Sixth Sense         NaN    NaN  ...      0              0     0           0           0\n4      Gladiator        Patriot    Sixth Sense         NaN    NaN  ...      0              0     0           0           0\n5      Gladiator        Patriot    Sixth Sense         NaN    NaN  ...      0              0     0           0           0\n6  Harry Potter1  Harry Potter2            NaN         NaN    NaN  ...      0              1     0           0           0\n7      Gladiator        Patriot            NaN         NaN    NaN  ...      0              0     0           0           0\n8      Gladiator        Patriot    Sixth Sense         NaN    NaN  ...      0              0     0           0           0\n9    Sixth Sense           LOTR      Gladiator  Green Mile    NaN  ...      0              0     1           0           1\n\n[10 rows x 15 columns]"
          },
          "execution_count": 27,
          "metadata": {},
          "output_type": "execute_result"
        }
      ]
    },
    {
      "metadata": {
        "ExecuteTime": {
          "end_time": "2023-06-04T14:07:56.499443Z",
          "start_time": "2023-06-04T14:07:56.410351Z"
        },
        "trusted": false
      },
      "id": "0f8c0101",
      "cell_type": "code",
      "source": "movies.info()",
      "execution_count": 28,
      "outputs": [
        {
          "name": "stdout",
          "output_type": "stream",
          "text": "<class 'pandas.core.frame.DataFrame'>\nRangeIndex: 10 entries, 0 to 9\nData columns (total 15 columns):\n #   Column         Non-Null Count  Dtype \n---  ------         --------------  ----- \n 0   V1             10 non-null     object\n 1   V2             10 non-null     object\n 2   V3             7 non-null      object\n 3   V4             2 non-null      object\n 4   V5             1 non-null      object\n 5   Sixth Sense    10 non-null     int64 \n 6   Gladiator      10 non-null     int64 \n 7   LOTR1          10 non-null     int64 \n 8   Harry Potter1  10 non-null     int64 \n 9   Patriot        10 non-null     int64 \n 10  LOTR2          10 non-null     int64 \n 11  Harry Potter2  10 non-null     int64 \n 12  LOTR           10 non-null     int64 \n 13  Braveheart     10 non-null     int64 \n 14  Green Mile     10 non-null     int64 \ndtypes: int64(10), object(5)\nmemory usage: 1.3+ KB\n"
        }
      ]
    },
    {
      "metadata": {
        "ExecuteTime": {
          "end_time": "2023-06-04T14:09:58.153590Z",
          "start_time": "2023-06-04T14:09:58.099188Z"
        },
        "trusted": false
      },
      "id": "0e0ae915",
      "cell_type": "code",
      "source": "movies1=movies.iloc[:,5:]\nmovies1",
      "execution_count": 29,
      "outputs": [
        {
          "data": {
            "text/html": "<div>\n<style scoped>\n    .dataframe tbody tr th:only-of-type {\n        vertical-align: middle;\n    }\n\n    .dataframe tbody tr th {\n        vertical-align: top;\n    }\n\n    .dataframe thead th {\n        text-align: right;\n    }\n</style>\n<table border=\"1\" class=\"dataframe\">\n  <thead>\n    <tr style=\"text-align: right;\">\n      <th></th>\n      <th>Sixth Sense</th>\n      <th>Gladiator</th>\n      <th>LOTR1</th>\n      <th>Harry Potter1</th>\n      <th>Patriot</th>\n      <th>LOTR2</th>\n      <th>Harry Potter2</th>\n      <th>LOTR</th>\n      <th>Braveheart</th>\n      <th>Green Mile</th>\n    </tr>\n  </thead>\n  <tbody>\n    <tr>\n      <th>0</th>\n      <td>1</td>\n      <td>0</td>\n      <td>1</td>\n      <td>1</td>\n      <td>0</td>\n      <td>1</td>\n      <td>0</td>\n      <td>0</td>\n      <td>0</td>\n      <td>1</td>\n    </tr>\n    <tr>\n      <th>1</th>\n      <td>0</td>\n      <td>1</td>\n      <td>0</td>\n      <td>0</td>\n      <td>1</td>\n      <td>0</td>\n      <td>0</td>\n      <td>0</td>\n      <td>1</td>\n      <td>0</td>\n    </tr>\n    <tr>\n      <th>2</th>\n      <td>0</td>\n      <td>0</td>\n      <td>1</td>\n      <td>0</td>\n      <td>0</td>\n      <td>1</td>\n      <td>0</td>\n      <td>0</td>\n      <td>0</td>\n      <td>0</td>\n    </tr>\n    <tr>\n      <th>3</th>\n      <td>1</td>\n      <td>1</td>\n      <td>0</td>\n      <td>0</td>\n      <td>1</td>\n      <td>0</td>\n      <td>0</td>\n      <td>0</td>\n      <td>0</td>\n      <td>0</td>\n    </tr>\n    <tr>\n      <th>4</th>\n      <td>1</td>\n      <td>1</td>\n      <td>0</td>\n      <td>0</td>\n      <td>1</td>\n      <td>0</td>\n      <td>0</td>\n      <td>0</td>\n      <td>0</td>\n      <td>0</td>\n    </tr>\n    <tr>\n      <th>5</th>\n      <td>1</td>\n      <td>1</td>\n      <td>0</td>\n      <td>0</td>\n      <td>1</td>\n      <td>0</td>\n      <td>0</td>\n      <td>0</td>\n      <td>0</td>\n      <td>0</td>\n    </tr>\n    <tr>\n      <th>6</th>\n      <td>0</td>\n      <td>0</td>\n      <td>0</td>\n      <td>1</td>\n      <td>0</td>\n      <td>0</td>\n      <td>1</td>\n      <td>0</td>\n      <td>0</td>\n      <td>0</td>\n    </tr>\n    <tr>\n      <th>7</th>\n      <td>0</td>\n      <td>1</td>\n      <td>0</td>\n      <td>0</td>\n      <td>1</td>\n      <td>0</td>\n      <td>0</td>\n      <td>0</td>\n      <td>0</td>\n      <td>0</td>\n    </tr>\n    <tr>\n      <th>8</th>\n      <td>1</td>\n      <td>1</td>\n      <td>0</td>\n      <td>0</td>\n      <td>1</td>\n      <td>0</td>\n      <td>0</td>\n      <td>0</td>\n      <td>0</td>\n      <td>0</td>\n    </tr>\n    <tr>\n      <th>9</th>\n      <td>1</td>\n      <td>1</td>\n      <td>0</td>\n      <td>0</td>\n      <td>0</td>\n      <td>0</td>\n      <td>0</td>\n      <td>1</td>\n      <td>0</td>\n      <td>1</td>\n    </tr>\n  </tbody>\n</table>\n</div>",
            "text/plain": "   Sixth Sense  Gladiator  LOTR1  Harry Potter1  Patriot  LOTR2  Harry Potter2  LOTR  Braveheart  Green Mile\n0            1          0      1              1        0      1              0     0           0           1\n1            0          1      0              0        1      0              0     0           1           0\n2            0          0      1              0        0      1              0     0           0           0\n3            1          1      0              0        1      0              0     0           0           0\n4            1          1      0              0        1      0              0     0           0           0\n5            1          1      0              0        1      0              0     0           0           0\n6            0          0      0              1        0      0              1     0           0           0\n7            0          1      0              0        1      0              0     0           0           0\n8            1          1      0              0        1      0              0     0           0           0\n9            1          1      0              0        0      0              0     1           0           1"
          },
          "execution_count": 29,
          "metadata": {},
          "output_type": "execute_result"
        }
      ]
    },
    {
      "metadata": {},
      "id": "03be9e93",
      "cell_type": "markdown",
      "source": "10% support & 20% Threshold"
    },
    {
      "metadata": {
        "ExecuteTime": {
          "end_time": "2023-06-04T14:11:17.155931Z",
          "start_time": "2023-06-04T14:11:17.049117Z"
        },
        "trusted": false
      },
      "id": "0e891419",
      "cell_type": "code",
      "source": "freq_movies1=apriori(movies1,min_support=0.1,use_colnames=True)\nfreq_movies1",
      "execution_count": 30,
      "outputs": [
        {
          "data": {
            "text/html": "<div>\n<style scoped>\n    .dataframe tbody tr th:only-of-type {\n        vertical-align: middle;\n    }\n\n    .dataframe tbody tr th {\n        vertical-align: top;\n    }\n\n    .dataframe thead th {\n        text-align: right;\n    }\n</style>\n<table border=\"1\" class=\"dataframe\">\n  <thead>\n    <tr style=\"text-align: right;\">\n      <th></th>\n      <th>support</th>\n      <th>itemsets</th>\n    </tr>\n  </thead>\n  <tbody>\n    <tr>\n      <th>0</th>\n      <td>0.6</td>\n      <td>(Sixth Sense)</td>\n    </tr>\n    <tr>\n      <th>1</th>\n      <td>0.7</td>\n      <td>(Gladiator)</td>\n    </tr>\n    <tr>\n      <th>2</th>\n      <td>0.2</td>\n      <td>(LOTR1)</td>\n    </tr>\n    <tr>\n      <th>3</th>\n      <td>0.2</td>\n      <td>(Harry Potter1)</td>\n    </tr>\n    <tr>\n      <th>4</th>\n      <td>0.6</td>\n      <td>(Patriot)</td>\n    </tr>\n    <tr>\n      <th>5</th>\n      <td>0.2</td>\n      <td>(LOTR2)</td>\n    </tr>\n    <tr>\n      <th>6</th>\n      <td>0.1</td>\n      <td>(Harry Potter2)</td>\n    </tr>\n    <tr>\n      <th>7</th>\n      <td>0.1</td>\n      <td>(LOTR)</td>\n    </tr>\n    <tr>\n      <th>8</th>\n      <td>0.1</td>\n      <td>(Braveheart)</td>\n    </tr>\n    <tr>\n      <th>9</th>\n      <td>0.2</td>\n      <td>(Green Mile)</td>\n    </tr>\n    <tr>\n      <th>10</th>\n      <td>0.5</td>\n      <td>(Gladiator, Sixth Sense)</td>\n    </tr>\n    <tr>\n      <th>11</th>\n      <td>0.1</td>\n      <td>(LOTR1, Sixth Sense)</td>\n    </tr>\n    <tr>\n      <th>12</th>\n      <td>0.1</td>\n      <td>(Harry Potter1, Sixth Sense)</td>\n    </tr>\n    <tr>\n      <th>13</th>\n      <td>0.4</td>\n      <td>(Patriot, Sixth Sense)</td>\n    </tr>\n    <tr>\n      <th>14</th>\n      <td>0.1</td>\n      <td>(LOTR2, Sixth Sense)</td>\n    </tr>\n    <tr>\n      <th>15</th>\n      <td>0.1</td>\n      <td>(LOTR, Sixth Sense)</td>\n    </tr>\n    <tr>\n      <th>16</th>\n      <td>0.2</td>\n      <td>(Green Mile, Sixth Sense)</td>\n    </tr>\n    <tr>\n      <th>17</th>\n      <td>0.6</td>\n      <td>(Patriot, Gladiator)</td>\n    </tr>\n    <tr>\n      <th>18</th>\n      <td>0.1</td>\n      <td>(LOTR, Gladiator)</td>\n    </tr>\n    <tr>\n      <th>19</th>\n      <td>0.1</td>\n      <td>(Braveheart, Gladiator)</td>\n    </tr>\n    <tr>\n      <th>20</th>\n      <td>0.1</td>\n      <td>(Green Mile, Gladiator)</td>\n    </tr>\n    <tr>\n      <th>21</th>\n      <td>0.1</td>\n      <td>(Harry Potter1, LOTR1)</td>\n    </tr>\n    <tr>\n      <th>22</th>\n      <td>0.2</td>\n      <td>(LOTR2, LOTR1)</td>\n    </tr>\n    <tr>\n      <th>23</th>\n      <td>0.1</td>\n      <td>(Green Mile, LOTR1)</td>\n    </tr>\n    <tr>\n      <th>24</th>\n      <td>0.1</td>\n      <td>(Harry Potter1, LOTR2)</td>\n    </tr>\n    <tr>\n      <th>25</th>\n      <td>0.1</td>\n      <td>(Harry Potter1, Harry Potter2)</td>\n    </tr>\n    <tr>\n      <th>26</th>\n      <td>0.1</td>\n      <td>(Harry Potter1, Green Mile)</td>\n    </tr>\n    <tr>\n      <th>27</th>\n      <td>0.1</td>\n      <td>(Patriot, Braveheart)</td>\n    </tr>\n    <tr>\n      <th>28</th>\n      <td>0.1</td>\n      <td>(LOTR2, Green Mile)</td>\n    </tr>\n    <tr>\n      <th>29</th>\n      <td>0.1</td>\n      <td>(LOTR, Green Mile)</td>\n    </tr>\n    <tr>\n      <th>30</th>\n      <td>0.4</td>\n      <td>(Patriot, Gladiator, Sixth Sense)</td>\n    </tr>\n    <tr>\n      <th>31</th>\n      <td>0.1</td>\n      <td>(LOTR, Gladiator, Sixth Sense)</td>\n    </tr>\n    <tr>\n      <th>32</th>\n      <td>0.1</td>\n      <td>(Green Mile, Gladiator, Sixth Sense)</td>\n    </tr>\n    <tr>\n      <th>33</th>\n      <td>0.1</td>\n      <td>(Harry Potter1, LOTR1, Sixth Sense)</td>\n    </tr>\n    <tr>\n      <th>34</th>\n      <td>0.1</td>\n      <td>(LOTR2, LOTR1, Sixth Sense)</td>\n    </tr>\n    <tr>\n      <th>35</th>\n      <td>0.1</td>\n      <td>(Green Mile, LOTR1, Sixth Sense)</td>\n    </tr>\n    <tr>\n      <th>36</th>\n      <td>0.1</td>\n      <td>(Harry Potter1, LOTR2, Sixth Sense)</td>\n    </tr>\n    <tr>\n      <th>37</th>\n      <td>0.1</td>\n      <td>(Harry Potter1, Green Mile, Sixth Sense)</td>\n    </tr>\n    <tr>\n      <th>38</th>\n      <td>0.1</td>\n      <td>(LOTR2, Green Mile, Sixth Sense)</td>\n    </tr>\n    <tr>\n      <th>39</th>\n      <td>0.1</td>\n      <td>(LOTR, Green Mile, Sixth Sense)</td>\n    </tr>\n    <tr>\n      <th>40</th>\n      <td>0.1</td>\n      <td>(Patriot, Braveheart, Gladiator)</td>\n    </tr>\n    <tr>\n      <th>41</th>\n      <td>0.1</td>\n      <td>(LOTR, Green Mile, Gladiator)</td>\n    </tr>\n    <tr>\n      <th>42</th>\n      <td>0.1</td>\n      <td>(Harry Potter1, LOTR2, LOTR1)</td>\n    </tr>\n    <tr>\n      <th>43</th>\n      <td>0.1</td>\n      <td>(Harry Potter1, Green Mile, LOTR1)</td>\n    </tr>\n    <tr>\n      <th>44</th>\n      <td>0.1</td>\n      <td>(LOTR2, Green Mile, LOTR1)</td>\n    </tr>\n    <tr>\n      <th>45</th>\n      <td>0.1</td>\n      <td>(Harry Potter1, Green Mile, LOTR2)</td>\n    </tr>\n    <tr>\n      <th>46</th>\n      <td>0.1</td>\n      <td>(LOTR, Green Mile, Gladiator, Sixth Sense)</td>\n    </tr>\n    <tr>\n      <th>47</th>\n      <td>0.1</td>\n      <td>(Harry Potter1, LOTR2, LOTR1, Sixth Sense)</td>\n    </tr>\n    <tr>\n      <th>48</th>\n      <td>0.1</td>\n      <td>(Harry Potter1, Green Mile, LOTR1, Sixth Sense)</td>\n    </tr>\n    <tr>\n      <th>49</th>\n      <td>0.1</td>\n      <td>(LOTR2, Green Mile, LOTR1, Sixth Sense)</td>\n    </tr>\n    <tr>\n      <th>50</th>\n      <td>0.1</td>\n      <td>(Harry Potter1, Green Mile, LOTR2, Sixth Sense)</td>\n    </tr>\n    <tr>\n      <th>51</th>\n      <td>0.1</td>\n      <td>(Harry Potter1, Green Mile, LOTR1, LOTR2)</td>\n    </tr>\n    <tr>\n      <th>52</th>\n      <td>0.1</td>\n      <td>(LOTR2, Harry Potter1, Green Mile, LOTR1, Sixt...</td>\n    </tr>\n  </tbody>\n</table>\n</div>",
            "text/plain": "    support                                           itemsets\n0       0.6                                      (Sixth Sense)\n1       0.7                                        (Gladiator)\n2       0.2                                            (LOTR1)\n3       0.2                                    (Harry Potter1)\n4       0.6                                          (Patriot)\n5       0.2                                            (LOTR2)\n6       0.1                                    (Harry Potter2)\n7       0.1                                             (LOTR)\n8       0.1                                       (Braveheart)\n9       0.2                                       (Green Mile)\n10      0.5                           (Gladiator, Sixth Sense)\n11      0.1                               (LOTR1, Sixth Sense)\n12      0.1                       (Harry Potter1, Sixth Sense)\n13      0.4                             (Patriot, Sixth Sense)\n14      0.1                               (LOTR2, Sixth Sense)\n15      0.1                                (LOTR, Sixth Sense)\n16      0.2                          (Green Mile, Sixth Sense)\n17      0.6                               (Patriot, Gladiator)\n18      0.1                                  (LOTR, Gladiator)\n19      0.1                            (Braveheart, Gladiator)\n20      0.1                            (Green Mile, Gladiator)\n21      0.1                             (Harry Potter1, LOTR1)\n22      0.2                                     (LOTR2, LOTR1)\n23      0.1                                (Green Mile, LOTR1)\n24      0.1                             (Harry Potter1, LOTR2)\n25      0.1                     (Harry Potter1, Harry Potter2)\n26      0.1                        (Harry Potter1, Green Mile)\n27      0.1                              (Patriot, Braveheart)\n28      0.1                                (LOTR2, Green Mile)\n29      0.1                                 (LOTR, Green Mile)\n30      0.4                  (Patriot, Gladiator, Sixth Sense)\n31      0.1                     (LOTR, Gladiator, Sixth Sense)\n32      0.1               (Green Mile, Gladiator, Sixth Sense)\n33      0.1                (Harry Potter1, LOTR1, Sixth Sense)\n34      0.1                        (LOTR2, LOTR1, Sixth Sense)\n35      0.1                   (Green Mile, LOTR1, Sixth Sense)\n36      0.1                (Harry Potter1, LOTR2, Sixth Sense)\n37      0.1           (Harry Potter1, Green Mile, Sixth Sense)\n38      0.1                   (LOTR2, Green Mile, Sixth Sense)\n39      0.1                    (LOTR, Green Mile, Sixth Sense)\n40      0.1                   (Patriot, Braveheart, Gladiator)\n41      0.1                      (LOTR, Green Mile, Gladiator)\n42      0.1                      (Harry Potter1, LOTR2, LOTR1)\n43      0.1                 (Harry Potter1, Green Mile, LOTR1)\n44      0.1                         (LOTR2, Green Mile, LOTR1)\n45      0.1                 (Harry Potter1, Green Mile, LOTR2)\n46      0.1         (LOTR, Green Mile, Gladiator, Sixth Sense)\n47      0.1         (Harry Potter1, LOTR2, LOTR1, Sixth Sense)\n48      0.1    (Harry Potter1, Green Mile, LOTR1, Sixth Sense)\n49      0.1            (LOTR2, Green Mile, LOTR1, Sixth Sense)\n50      0.1    (Harry Potter1, Green Mile, LOTR2, Sixth Sense)\n51      0.1          (Harry Potter1, Green Mile, LOTR1, LOTR2)\n52      0.1  (LOTR2, Harry Potter1, Green Mile, LOTR1, Sixt..."
          },
          "execution_count": 30,
          "metadata": {},
          "output_type": "execute_result"
        }
      ]
    },
    {
      "metadata": {
        "ExecuteTime": {
          "end_time": "2023-06-04T14:12:41.141613Z",
          "start_time": "2023-06-04T14:12:41.049836Z"
        },
        "trusted": false
      },
      "id": "6b83b158",
      "cell_type": "code",
      "source": "rule_movies1=association_rules(freq_book,metric='lift',min_threshold=0.2)\nrule_movies1",
      "execution_count": 31,
      "outputs": [
        {
          "data": {
            "text/html": "<div>\n<style scoped>\n    .dataframe tbody tr th:only-of-type {\n        vertical-align: middle;\n    }\n\n    .dataframe tbody tr th {\n        vertical-align: top;\n    }\n\n    .dataframe thead th {\n        text-align: right;\n    }\n</style>\n<table border=\"1\" class=\"dataframe\">\n  <thead>\n    <tr style=\"text-align: right;\">\n      <th></th>\n      <th>antecedents</th>\n      <th>consequents</th>\n      <th>antecedent support</th>\n      <th>consequent support</th>\n      <th>support</th>\n      <th>confidence</th>\n      <th>lift</th>\n      <th>leverage</th>\n      <th>conviction</th>\n    </tr>\n  </thead>\n  <tbody>\n    <tr>\n      <th>0</th>\n      <td>(Gladiator)</td>\n      <td>(Sixth Sense)</td>\n      <td>0.7</td>\n      <td>0.6</td>\n      <td>0.5</td>\n      <td>0.714286</td>\n      <td>1.190476</td>\n      <td>0.08</td>\n      <td>1.40</td>\n    </tr>\n    <tr>\n      <th>1</th>\n      <td>(Sixth Sense)</td>\n      <td>(Gladiator)</td>\n      <td>0.6</td>\n      <td>0.7</td>\n      <td>0.5</td>\n      <td>0.833333</td>\n      <td>1.190476</td>\n      <td>0.08</td>\n      <td>1.80</td>\n    </tr>\n    <tr>\n      <th>2</th>\n      <td>(LOTR1)</td>\n      <td>(Sixth Sense)</td>\n      <td>0.2</td>\n      <td>0.6</td>\n      <td>0.1</td>\n      <td>0.500000</td>\n      <td>0.833333</td>\n      <td>-0.02</td>\n      <td>0.80</td>\n    </tr>\n    <tr>\n      <th>3</th>\n      <td>(Sixth Sense)</td>\n      <td>(LOTR1)</td>\n      <td>0.6</td>\n      <td>0.2</td>\n      <td>0.1</td>\n      <td>0.166667</td>\n      <td>0.833333</td>\n      <td>-0.02</td>\n      <td>0.96</td>\n    </tr>\n    <tr>\n      <th>4</th>\n      <td>(Harry Potter1)</td>\n      <td>(Sixth Sense)</td>\n      <td>0.2</td>\n      <td>0.6</td>\n      <td>0.1</td>\n      <td>0.500000</td>\n      <td>0.833333</td>\n      <td>-0.02</td>\n      <td>0.80</td>\n    </tr>\n    <tr>\n      <th>...</th>\n      <td>...</td>\n      <td>...</td>\n      <td>...</td>\n      <td>...</td>\n      <td>...</td>\n      <td>...</td>\n      <td>...</td>\n      <td>...</td>\n      <td>...</td>\n    </tr>\n    <tr>\n      <th>245</th>\n      <td>(LOTR2)</td>\n      <td>(Harry Potter1, Green Mile, LOTR1, Sixth Sense)</td>\n      <td>0.2</td>\n      <td>0.1</td>\n      <td>0.1</td>\n      <td>0.500000</td>\n      <td>5.000000</td>\n      <td>0.08</td>\n      <td>1.80</td>\n    </tr>\n    <tr>\n      <th>246</th>\n      <td>(Harry Potter1)</td>\n      <td>(LOTR2, LOTR1, Sixth Sense, Green Mile)</td>\n      <td>0.2</td>\n      <td>0.1</td>\n      <td>0.1</td>\n      <td>0.500000</td>\n      <td>5.000000</td>\n      <td>0.08</td>\n      <td>1.80</td>\n    </tr>\n    <tr>\n      <th>247</th>\n      <td>(Green Mile)</td>\n      <td>(Harry Potter1, LOTR2, LOTR1, Sixth Sense)</td>\n      <td>0.2</td>\n      <td>0.1</td>\n      <td>0.1</td>\n      <td>0.500000</td>\n      <td>5.000000</td>\n      <td>0.08</td>\n      <td>1.80</td>\n    </tr>\n    <tr>\n      <th>248</th>\n      <td>(LOTR1)</td>\n      <td>(Harry Potter1, LOTR2, Sixth Sense, Green Mile)</td>\n      <td>0.2</td>\n      <td>0.1</td>\n      <td>0.1</td>\n      <td>0.500000</td>\n      <td>5.000000</td>\n      <td>0.08</td>\n      <td>1.80</td>\n    </tr>\n    <tr>\n      <th>249</th>\n      <td>(Sixth Sense)</td>\n      <td>(Harry Potter1, LOTR2, LOTR1, Green Mile)</td>\n      <td>0.6</td>\n      <td>0.1</td>\n      <td>0.1</td>\n      <td>0.166667</td>\n      <td>1.666667</td>\n      <td>0.04</td>\n      <td>1.08</td>\n    </tr>\n  </tbody>\n</table>\n<p>250 rows × 9 columns</p>\n</div>",
            "text/plain": "         antecedents                                      consequents  ...  leverage  conviction\n0        (Gladiator)                                    (Sixth Sense)  ...      0.08        1.40\n1      (Sixth Sense)                                      (Gladiator)  ...      0.08        1.80\n2            (LOTR1)                                    (Sixth Sense)  ...     -0.02        0.80\n3      (Sixth Sense)                                          (LOTR1)  ...     -0.02        0.96\n4    (Harry Potter1)                                    (Sixth Sense)  ...     -0.02        0.80\n..               ...                                              ...  ...       ...         ...\n245          (LOTR2)  (Harry Potter1, Green Mile, LOTR1, Sixth Sense)  ...      0.08        1.80\n246  (Harry Potter1)          (LOTR2, LOTR1, Sixth Sense, Green Mile)  ...      0.08        1.80\n247     (Green Mile)       (Harry Potter1, LOTR2, LOTR1, Sixth Sense)  ...      0.08        1.80\n248          (LOTR1)  (Harry Potter1, LOTR2, Sixth Sense, Green Mile)  ...      0.08        1.80\n249    (Sixth Sense)        (Harry Potter1, LOTR2, LOTR1, Green Mile)  ...      0.04        1.08\n\n[250 rows x 9 columns]"
          },
          "execution_count": 31,
          "metadata": {},
          "output_type": "execute_result"
        }
      ]
    },
    {
      "metadata": {
        "ExecuteTime": {
          "end_time": "2023-06-04T14:13:40.873197Z",
          "start_time": "2023-06-04T14:13:40.772880Z"
        },
        "trusted": false
      },
      "id": "5c1793fa",
      "cell_type": "code",
      "source": "rule_movies1.sort_values('lift',ascending=False)",
      "execution_count": 32,
      "outputs": [
        {
          "data": {
            "text/html": "<div>\n<style scoped>\n    .dataframe tbody tr th:only-of-type {\n        vertical-align: middle;\n    }\n\n    .dataframe tbody tr th {\n        vertical-align: top;\n    }\n\n    .dataframe thead th {\n        text-align: right;\n    }\n</style>\n<table border=\"1\" class=\"dataframe\">\n  <thead>\n    <tr style=\"text-align: right;\">\n      <th></th>\n      <th>antecedents</th>\n      <th>consequents</th>\n      <th>antecedent support</th>\n      <th>consequent support</th>\n      <th>support</th>\n      <th>confidence</th>\n      <th>lift</th>\n      <th>leverage</th>\n      <th>conviction</th>\n    </tr>\n  </thead>\n  <tbody>\n    <tr>\n      <th>158</th>\n      <td>(LOTR2, Sixth Sense)</td>\n      <td>(Harry Potter1, LOTR1)</td>\n      <td>0.1</td>\n      <td>0.1</td>\n      <td>0.1</td>\n      <td>1.000000</td>\n      <td>10.000000</td>\n      <td>0.09</td>\n      <td>inf</td>\n    </tr>\n    <tr>\n      <th>168</th>\n      <td>(Harry Potter1, Green Mile)</td>\n      <td>(LOTR1, Sixth Sense)</td>\n      <td>0.1</td>\n      <td>0.1</td>\n      <td>0.1</td>\n      <td>1.000000</td>\n      <td>10.000000</td>\n      <td>0.09</td>\n      <td>inf</td>\n    </tr>\n    <tr>\n      <th>201</th>\n      <td>(LOTR2, Sixth Sense)</td>\n      <td>(Harry Potter1, Green Mile)</td>\n      <td>0.1</td>\n      <td>0.1</td>\n      <td>0.1</td>\n      <td>1.000000</td>\n      <td>10.000000</td>\n      <td>0.09</td>\n      <td>inf</td>\n    </tr>\n    <tr>\n      <th>182</th>\n      <td>(LOTR2, Green Mile)</td>\n      <td>(LOTR1, Sixth Sense)</td>\n      <td>0.1</td>\n      <td>0.1</td>\n      <td>0.1</td>\n      <td>1.000000</td>\n      <td>10.000000</td>\n      <td>0.09</td>\n      <td>inf</td>\n    </tr>\n    <tr>\n      <th>187</th>\n      <td>(LOTR1, Sixth Sense)</td>\n      <td>(LOTR2, Green Mile)</td>\n      <td>0.1</td>\n      <td>0.1</td>\n      <td>0.1</td>\n      <td>1.000000</td>\n      <td>10.000000</td>\n      <td>0.09</td>\n      <td>inf</td>\n    </tr>\n    <tr>\n      <th>...</th>\n      <td>...</td>\n      <td>...</td>\n      <td>...</td>\n      <td>...</td>\n      <td>...</td>\n      <td>...</td>\n      <td>...</td>\n      <td>...</td>\n      <td>...</td>\n    </tr>\n    <tr>\n      <th>64</th>\n      <td>(LOTR2, LOTR1)</td>\n      <td>(Sixth Sense)</td>\n      <td>0.2</td>\n      <td>0.6</td>\n      <td>0.1</td>\n      <td>0.500000</td>\n      <td>0.833333</td>\n      <td>-0.02</td>\n      <td>0.800000</td>\n    </tr>\n    <tr>\n      <th>21</th>\n      <td>(Gladiator)</td>\n      <td>(Green Mile)</td>\n      <td>0.7</td>\n      <td>0.2</td>\n      <td>0.1</td>\n      <td>0.142857</td>\n      <td>0.714286</td>\n      <td>-0.04</td>\n      <td>0.933333</td>\n    </tr>\n    <tr>\n      <th>56</th>\n      <td>(Gladiator)</td>\n      <td>(Green Mile, Sixth Sense)</td>\n      <td>0.7</td>\n      <td>0.2</td>\n      <td>0.1</td>\n      <td>0.142857</td>\n      <td>0.714286</td>\n      <td>-0.04</td>\n      <td>0.933333</td>\n    </tr>\n    <tr>\n      <th>53</th>\n      <td>(Green Mile, Sixth Sense)</td>\n      <td>(Gladiator)</td>\n      <td>0.2</td>\n      <td>0.7</td>\n      <td>0.1</td>\n      <td>0.500000</td>\n      <td>0.714286</td>\n      <td>-0.04</td>\n      <td>0.600000</td>\n    </tr>\n    <tr>\n      <th>20</th>\n      <td>(Green Mile)</td>\n      <td>(Gladiator)</td>\n      <td>0.2</td>\n      <td>0.7</td>\n      <td>0.1</td>\n      <td>0.500000</td>\n      <td>0.714286</td>\n      <td>-0.04</td>\n      <td>0.600000</td>\n    </tr>\n  </tbody>\n</table>\n<p>250 rows × 9 columns</p>\n</div>",
            "text/plain": "                     antecedents                  consequents  antecedent support  ...       lift  leverage  conviction\n158         (LOTR2, Sixth Sense)       (Harry Potter1, LOTR1)                 0.1  ...  10.000000      0.09         inf\n168  (Harry Potter1, Green Mile)         (LOTR1, Sixth Sense)                 0.1  ...  10.000000      0.09         inf\n201         (LOTR2, Sixth Sense)  (Harry Potter1, Green Mile)                 0.1  ...  10.000000      0.09         inf\n182          (LOTR2, Green Mile)         (LOTR1, Sixth Sense)                 0.1  ...  10.000000      0.09         inf\n187         (LOTR1, Sixth Sense)          (LOTR2, Green Mile)                 0.1  ...  10.000000      0.09         inf\n..                           ...                          ...                 ...  ...        ...       ...         ...\n64                (LOTR2, LOTR1)                (Sixth Sense)                 0.2  ...   0.833333     -0.02    0.800000\n21                   (Gladiator)                 (Green Mile)                 0.7  ...   0.714286     -0.04    0.933333\n56                   (Gladiator)    (Green Mile, Sixth Sense)                 0.7  ...   0.714286     -0.04    0.933333\n53     (Green Mile, Sixth Sense)                  (Gladiator)                 0.2  ...   0.714286     -0.04    0.600000\n20                  (Green Mile)                  (Gladiator)                 0.2  ...   0.714286     -0.04    0.600000\n\n[250 rows x 9 columns]"
          },
          "execution_count": 32,
          "metadata": {},
          "output_type": "execute_result"
        }
      ]
    },
    {
      "metadata": {
        "ExecuteTime": {
          "end_time": "2023-06-04T14:15:47.783371Z",
          "start_time": "2023-06-04T14:15:47.451515Z"
        },
        "trusted": false
      },
      "id": "849ad11b",
      "cell_type": "code",
      "source": "plt.plot(rule_movies1['support'],rule_movies1['lift'],'ro')\nplt.xlabel('Support')\nplt.ylabel('Lift')",
      "execution_count": 33,
      "outputs": [
        {
          "data": {
            "text/plain": "Text(0, 0.5, 'Lift')"
          },
          "execution_count": 33,
          "metadata": {},
          "output_type": "execute_result"
        },
        {
          "data": {
            "image/png": "[encoded data removed]",
            "text/plain": "<Figure size 432x288 with 1 Axes>"
          },
          "metadata": {
            "needs_background": "light"
          },
          "output_type": "display_data"
        }
      ]
    },
    {
      "metadata": {},
      "id": "90f62be3",
      "cell_type": "markdown",
      "source": "30% support & 60% Threshold"
    },
    {
      "metadata": {
        "ExecuteTime": {
          "end_time": "2023-06-04T14:17:28.414116Z",
          "start_time": "2023-06-04T14:17:28.353030Z"
        },
        "trusted": false
      },
      "id": "658b1afb",
      "cell_type": "code",
      "source": "freq_movies2=apriori(movies1,min_support=0.3,use_colnames=True)\nfreq_movies2",
      "execution_count": 34,
      "outputs": [
        {
          "data": {
            "text/html": "<div>\n<style scoped>\n    .dataframe tbody tr th:only-of-type {\n        vertical-align: middle;\n    }\n\n    .dataframe tbody tr th {\n        vertical-align: top;\n    }\n\n    .dataframe thead th {\n        text-align: right;\n    }\n</style>\n<table border=\"1\" class=\"dataframe\">\n  <thead>\n    <tr style=\"text-align: right;\">\n      <th></th>\n      <th>support</th>\n      <th>itemsets</th>\n    </tr>\n  </thead>\n  <tbody>\n    <tr>\n      <th>0</th>\n      <td>0.6</td>\n      <td>(Sixth Sense)</td>\n    </tr>\n    <tr>\n      <th>1</th>\n      <td>0.7</td>\n      <td>(Gladiator)</td>\n    </tr>\n    <tr>\n      <th>2</th>\n      <td>0.6</td>\n      <td>(Patriot)</td>\n    </tr>\n    <tr>\n      <th>3</th>\n      <td>0.5</td>\n      <td>(Gladiator, Sixth Sense)</td>\n    </tr>\n    <tr>\n      <th>4</th>\n      <td>0.4</td>\n      <td>(Patriot, Sixth Sense)</td>\n    </tr>\n    <tr>\n      <th>5</th>\n      <td>0.6</td>\n      <td>(Patriot, Gladiator)</td>\n    </tr>\n    <tr>\n      <th>6</th>\n      <td>0.4</td>\n      <td>(Patriot, Gladiator, Sixth Sense)</td>\n    </tr>\n  </tbody>\n</table>\n</div>",
            "text/plain": "   support                           itemsets\n0      0.6                      (Sixth Sense)\n1      0.7                        (Gladiator)\n2      0.6                          (Patriot)\n3      0.5           (Gladiator, Sixth Sense)\n4      0.4             (Patriot, Sixth Sense)\n5      0.6               (Patriot, Gladiator)\n6      0.4  (Patriot, Gladiator, Sixth Sense)"
          },
          "execution_count": 34,
          "metadata": {},
          "output_type": "execute_result"
        }
      ]
    },
    {
      "metadata": {
        "ExecuteTime": {
          "end_time": "2023-06-04T14:19:36.415238Z",
          "start_time": "2023-06-04T14:19:36.357374Z"
        },
        "trusted": false
      },
      "id": "fb1a02b0",
      "cell_type": "code",
      "source": "rule_movies2=association_rules(freq_book,metric='lift',min_threshold=0.6)\nrule_movies2",
      "execution_count": 35,
      "outputs": [
        {
          "data": {
            "text/html": "<div>\n<style scoped>\n    .dataframe tbody tr th:only-of-type {\n        vertical-align: middle;\n    }\n\n    .dataframe tbody tr th {\n        vertical-align: top;\n    }\n\n    .dataframe thead th {\n        text-align: right;\n    }\n</style>\n<table border=\"1\" class=\"dataframe\">\n  <thead>\n    <tr style=\"text-align: right;\">\n      <th></th>\n      <th>antecedents</th>\n      <th>consequents</th>\n      <th>antecedent support</th>\n      <th>consequent support</th>\n      <th>support</th>\n      <th>confidence</th>\n      <th>lift</th>\n      <th>leverage</th>\n      <th>conviction</th>\n    </tr>\n  </thead>\n  <tbody>\n    <tr>\n      <th>0</th>\n      <td>(CookBks)</td>\n      <td>(ChildBks)</td>\n      <td>0.431</td>\n      <td>0.423</td>\n      <td>0.256</td>\n      <td>0.593968</td>\n      <td>1.404179</td>\n      <td>0.073687</td>\n      <td>1.421069</td>\n    </tr>\n    <tr>\n      <th>1</th>\n      <td>(ChildBks)</td>\n      <td>(CookBks)</td>\n      <td>0.423</td>\n      <td>0.431</td>\n      <td>0.256</td>\n      <td>0.605201</td>\n      <td>1.404179</td>\n      <td>0.073687</td>\n      <td>1.441240</td>\n    </tr>\n  </tbody>\n</table>\n</div>",
            "text/plain": "  antecedents consequents  antecedent support  consequent support  support  confidence      lift  leverage  conviction\n0   (CookBks)  (ChildBks)               0.431               0.423    0.256    0.593968  1.404179  0.073687    1.421069\n1  (ChildBks)   (CookBks)               0.423               0.431    0.256    0.605201  1.404179  0.073687    1.441240"
          },
          "execution_count": 35,
          "metadata": {},
          "output_type": "execute_result"
        }
      ]
    },
    {
      "metadata": {
        "ExecuteTime": {
          "end_time": "2023-06-04T14:20:33.574398Z",
          "start_time": "2023-06-04T14:20:33.232936Z"
        },
        "trusted": false
      },
      "id": "f61bd597",
      "cell_type": "code",
      "source": "plt.plot(rule_movies2['support'],rule_movies2['lift'],'ro')\nplt.xlabel('Support')\nplt.ylabel('Lift')",
      "execution_count": 36,
      "outputs": [
        {
          "data": {
            "text/plain": "Text(0, 0.5, 'Lift')"
          },
          "execution_count": 36,
          "metadata": {},
          "output_type": "execute_result"
        },
        {
          "data": {
            "image/png": "[encoded data removed]",
            "text/plain": "<Figure size 432x288 with 1 Axes>"
          },
          "metadata": {
            "needs_background": "light"
          },
          "output_type": "display_data"
        }
      ]
    }
  ],
  "metadata": {
    "kernelspec": {
      "name": "python3",
      "display_name": "Python 3 (ipykernel)",
      "language": "python"
    },
    "language_info": {
      "name": "python",
      "version": "3.9.12",
      "mimetype": "text/x-python",
      "codemirror_mode": {
        "name": "ipython",
        "version": 3
      },
      "pygments_lexer": "ipython3",
      "nbconvert_exporter": "python",
      "file_extension": ".py"
    },
    "gist": {
      "id": "",
      "data": {
        "description": "Assignment 9 Association Rules.ipynb",
        "public": true
      }
    }
  },
  "nbformat": 4,
  "nbformat_minor": 5
}